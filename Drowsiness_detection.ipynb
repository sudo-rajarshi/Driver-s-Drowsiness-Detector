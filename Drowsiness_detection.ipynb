{
 "cells": [
  {
   "cell_type": "markdown",
   "metadata": {},
   "source": [
    "# Libraries"
   ]
  },
  {
   "cell_type": "code",
   "execution_count": 2,
   "metadata": {},
   "outputs": [
    {
     "name": "stdout",
     "output_type": "stream",
     "text": [
      "pygame 1.9.4\n",
      "Hello from the pygame community. https://www.pygame.org/contribute.html\n"
     ]
    }
   ],
   "source": [
    "from __future__ import division\n",
    "import dlib\n",
    "from imutils import face_utils\n",
    "import cv2\n",
    "import numpy as np\n",
    "from scipy.spatial import distance as dist\n",
    "import threading\n",
    "import pygame"
   ]
  },
  {
   "cell_type": "markdown",
   "metadata": {},
   "source": [
    "# Alarm"
   ]
  },
  {
   "cell_type": "code",
   "execution_count": 3,
   "metadata": {},
   "outputs": [],
   "source": [
    "def start_sound():\n",
    "    pygame.mixer.init()\n",
    "    pygame.mixer.music.load(\"z.ogg\")\n",
    "    pygame.mixer.music.play()"
   ]
  },
  {
   "cell_type": "markdown",
   "metadata": {},
   "source": [
    "# Re-sampling using pixel area relation"
   ]
  },
  {
   "cell_type": "code",
   "execution_count": 4,
   "metadata": {},
   "outputs": [],
   "source": [
    "def resize(img, width=None, height=None, interpolation=cv2.INTER_AREA):\n",
    "    global ratio\n",
    "    w, h = img.shape\n",
    "    if width is None and height is None:\n",
    "        return img\n",
    "    elif width is None:\n",
    "        ratio = height / h\n",
    "        width = int(w * ratio)\n",
    "        resized = cv2.resize(img, (height, width), interpolation)\n",
    "        return resized\n",
    "    else:\n",
    "        ratio = width / w\n",
    "        height = int(h * ratio)\n",
    "        resized = cv2.resize(img, (height, width), interpolation)\n",
    "        return resized"
   ]
  },
  {
   "cell_type": "markdown",
   "metadata": {},
   "source": [
    "# Extracting the indexes of the given facial part and grabbing the (x, y)-coordinates from the shape NumPy array"
   ]
  },
  {
   "cell_type": "code",
   "execution_count": 5,
   "metadata": {},
   "outputs": [],
   "source": [
    "def shape_to_np(shape, dtype=\"int\"):\n",
    "    coords = np.zeros((68, 2), dtype=dtype)\n",
    "    for i in range(36, 48):\n",
    "        coords[i] = (shape.part(i).x, shape.part(i).y)\n",
    "    return coords"
   ]
  },
  {
   "cell_type": "markdown",
   "metadata": {},
   "source": [
    "# Computing the euclidean distances between the two sets of vertical eye landmarks (x, y)-coordinates"
   ]
  },
  {
   "cell_type": "code",
   "execution_count": 6,
   "metadata": {},
   "outputs": [],
   "source": [
    "def eye_aspect_ratio(eye):\n",
    "    A = dist.euclidean(eye[1], eye[5])\n",
    "    B = dist.euclidean(eye[2], eye[4])\n",
    "\n",
    "    # compute the euclidean distance between the horizontal\n",
    "    # eye landmark (x, y)-coordinates\n",
    "    C = dist.euclidean(eye[0], eye[3])\n",
    "\n",
    "    # compute the eye aspect ratio\n",
    "    ear = (A + B) / (2.0 * C) # ear = eye\n",
    "\n",
    "    # return the eye aspect ratio\n",
    "    return ear"
   ]
  },
  {
   "cell_type": "markdown",
   "metadata": {},
   "source": [
    "# Accessing camera & predictor files & converting the colour of the frame to gray & resizing it"
   ]
  },
  {
   "cell_type": "code",
   "execution_count": 7,
   "metadata": {},
   "outputs": [
    {
     "name": "stdout",
     "output_type": "stream",
     "text": [
      "0.39818413624\n",
      "0.390703462927\n",
      "0.285714285714\n",
      "0.333333333333\n",
      "0.285714285714\n",
      "0.302576284107\n",
      "0.294145284911\n",
      "0.302576284107\n",
      "0.302576284107\n",
      "0.285714285714\n",
      "0.304178319737\n",
      "0.426417748642\n",
      "0.399632034356\n",
      "0.333026695297\n",
      "0.297671356237\n",
      "0.426417748642\n",
      "0.385142353761\n",
      "0.416197480144\n",
      "0.426417748642\n",
      "0.399632034356\n",
      "0.41192907761\n",
      "0.460201503534\n",
      "0.424264068712\n",
      "0.403112887415\n",
      "0.428571428571\n",
      "0.319992784809\n",
      "0.302576284107\n",
      "0.341175682602\n",
      "0.317924188633\n",
      "0.309523809524\n",
      "0.297931526075\n",
      "0.342543418237\n",
      "0.406856891166\n",
      "0.375\n",
      "0.302606163161\n",
      "0.300811429886\n",
      "0.329759167567\n",
      "0.47086305215\n",
      "0.358674379449\n",
      "0.354166666667\n",
      "0.315647289112\n",
      "0.353147289112\n",
      "0.359782419688\n",
      "0.371142605452\n",
      "0.308131587119\n",
      "0.27380952381\n",
      "0.414398987305\n",
      "0.366666666667\n",
      "0.353005664792\n",
      "0.380952380952\n",
      "0.333333333333\n",
      "0.31795480872\n",
      "0.343169499062\n",
      "0.366666666667\n",
      "0.309523809524\n",
      "0.464285714286\n",
      "0.422619047619\n",
      "0.331065653972\n",
      "0.464285714286\n",
      "0.357142857143\n",
      "0.416666666667\n",
      "0.309523809524\n",
      "0.380952380952\n",
      "0.355707070523\n",
      "0.362938487863\n",
      "0.362938487863\n",
      "0.470081345006\n",
      "0.357142857143\n",
      "0.364053333909\n",
      "0.364053333909\n",
      "0.29118897586\n",
      "0.315522677652\n",
      "0.317924188633\n",
      "0.314166606928\n",
      "0.391421356237\n",
      "0.287377344785\n",
      "0.343169499062\n",
      "0.36282879718\n",
      "0.372104203768\n",
      "0.309367059292\n",
      "0.353147289112\n",
      "0.354166666667\n",
      "0.354166666667\n",
      "0.337841046116\n",
      "0.356731407623\n",
      "0.33577472064\n",
      "0.36230114527\n",
      "0.408378128931\n",
      "0.383727452198\n",
      "0.340499496618\n",
      "0.373552101884\n",
      "0.284278499094\n",
      "0.291666666667\n",
      "0.333333333333\n",
      "0.340901819701\n",
      "0.27380952381\n",
      "0.3\n",
      "0.366666666667\n",
      "0.284278499094\n",
      "0.340901819701\n",
      "0.309523809524\n",
      "0.294145284911\n",
      "0.398652773577\n",
      "0.392857142857\n",
      "0.285714285714\n",
      "0.309523809524\n",
      "0.291666666667\n",
      "0.366666666667\n",
      "0.343169499062\n",
      "0.316666666667\n",
      "0.364398987305\n",
      "0.270833333333\n",
      "0.343169499062\n",
      "0.319415375617\n",
      "0.279449468472\n",
      "0.4\n",
      "0.4\n",
      "0.4\n",
      "0.4\n",
      "0.4\n",
      "0.366666666667\n",
      "0.316666666667\n",
      "0.366666666667\n",
      "0.378470065542\n",
      "0.378470065542\n",
      "0.378470065542\n",
      "0.4\n",
      "0.366666666667\n",
      "0.343169499062\n",
      "0.287698227784\n",
      "Stay Alert\n",
      "0.366666666667\n",
      "0.333333333333\n",
      "0.4\n"
     ]
    }
   ],
   "source": [
    "camera = cv2.VideoCapture(0)\n",
    "\n",
    "predictor_path = 'shape_predictor_68_face_landmarks.dat_2'\n",
    "\n",
    "detector = dlib.get_frontal_face_detector()\n",
    "predictor = dlib.shape_predictor(predictor_path)\n",
    "(lStart, lEnd) = face_utils.FACIAL_LANDMARKS_IDXS[\"left_eye\"]\n",
    "(rStart, rEnd) = face_utils.FACIAL_LANDMARKS_IDXS[\"right_eye\"]\n",
    "total = 0\n",
    "alarm = False\n",
    "while True:\n",
    "    ret, frame = camera.read()\n",
    "    if ret == False:\n",
    "        print('Failed to capture frame from camera. Check camera index in cv2.VideoCapture(0) \\n')\n",
    "        break\n",
    "\n",
    "    frame_grey = cv2.cvtColor(frame, cv2.COLOR_BGR2GRAY)\n",
    "    frame_resized = resize(frame_grey, width=120)\n",
    "\n",
    "    # Ask the detector to find the bounding boxes of each face. The 1 in the\n",
    "    # second argument indicates that we should upsample the image 1 time. This\n",
    "    # will make everything bigger and allow us to detect more faces.\n",
    "    dets = detector(frame_resized, 1)\n",
    "\n",
    "    if len(dets) > 0:\n",
    "        for k, d in enumerate(dets):\n",
    "            shape = predictor(frame_resized, d)\n",
    "            shape = shape_to_np(shape)\n",
    "            leftEye = shape[lStart:lEnd]\n",
    "            rightEye = shape[rStart:rEnd]\n",
    "            leftEAR = eye_aspect_ratio(leftEye)\n",
    "            rightEAR = eye_aspect_ratio(rightEye)\n",
    "            ear = (leftEAR + rightEAR) / 2.0\n",
    "            leftEyeHull = cv2.convexHull(leftEye)\n",
    "\n",
    "            rightEyeHull = cv2.convexHull(rightEye)\n",
    "            cv2.drawContours(frame, [leftEyeHull], -1, (0, 255, 0), 1)\n",
    "            cv2.drawContours(frame, [rightEyeHull], -1, (0, 255, 0), 1)\n",
    "            if ear > .27:\n",
    "                print(ear)\n",
    "                total = 0\n",
    "                alarm = False\n",
    "                cv2.putText(frame, \"Eyes Open \", (10, 30), cv2.FONT_HERSHEY_SIMPLEX, 0.7, (0, 0, 255), 2)\n",
    "            else:\n",
    "                total += 1\n",
    "                if total > 20:\n",
    "                    if not alarm:\n",
    "                        alarm = True\n",
    "                        d = threading.Thread(target=start_sound)\n",
    "                        d.setDaemon(True)\n",
    "                        d.start()\n",
    "                        print(\"Stay Alert\")\n",
    "                        cv2.putText(frame, \"drowsiness detected\", (250, 30), cv2.FONT_HERSHEY_SIMPLEX, 1.7, (0, 0, 0), 4)\n",
    "                cv2.putText(frame, \"Eyes close\".format(total), (10, 30), cv2.FONT_HERSHEY_SIMPLEX, 0.7, (0, 0, 255), 2)\n",
    "            for (x, y) in shape:\n",
    "                cv2.circle(frame, (int(x / ratio), int(y / ratio)), 3, (255, 255, 255), -1)\n",
    "    cv2.imshow(\"image\", frame)\n",
    "\n",
    "    if cv2.waitKey(1) & 0xFF == ord('q'):\n",
    "        cv2.destroyAllWindows()\n",
    "        camera.release()\n",
    "        break"
   ]
  },
  {
   "cell_type": "code",
   "execution_count": null,
   "metadata": {},
   "outputs": [],
   "source": []
  }
 ],
 "metadata": {
  "kernelspec": {
   "display_name": "Python 3",
   "language": "python",
   "name": "python3"
  },
  "language_info": {
   "codemirror_mode": {
    "name": "ipython",
    "version": 3
   },
   "file_extension": ".py",
   "mimetype": "text/x-python",
   "name": "python",
   "nbconvert_exporter": "python",
   "pygments_lexer": "ipython3",
   "version": "3.6.8"
  }
 },
 "nbformat": 4,
 "nbformat_minor": 2
}
